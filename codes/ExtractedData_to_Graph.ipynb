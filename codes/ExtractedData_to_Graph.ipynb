{
 "cells": [
  {
   "cell_type": "code",
   "execution_count": 1,
   "id": "e2ee2bbf",
   "metadata": {},
   "outputs": [],
   "source": [
    "#importing required libraries\n",
    "import os\n",
    "import numpy as np\n",
    "import pandas as pd\n",
    "from graphviz import Digraph"
   ]
  },
  {
   "cell_type": "code",
   "execution_count": 2,
   "id": "d817b70d",
   "metadata": {},
   "outputs": [],
   "source": [
    "# Function to extract numerical parts from strings and calculate average\n",
    "def calculate_average(row):\n",
    "    numerical_values = []\n",
    "\n",
    "    for value in row:\n",
    "        if isinstance(value, str):\n",
    "            parts = value.split()\n",
    "            for part in parts:\n",
    "                if part.isdigit():\n",
    "                    numerical_values.append(int(part))\n",
    "        elif isinstance(value, (int, float)) and not np.isnan(value):\n",
    "            numerical_values.append(value)\n",
    "\n",
    "    if numerical_values:\n",
    "        return sum(numerical_values) / len(numerical_values)\n",
    "    else:\n",
    "        return np.nan"
   ]
  },
  {
   "cell_type": "code",
   "execution_count": 3,
   "id": "b3bbf35e",
   "metadata": {},
   "outputs": [],
   "source": [
    "#Initialising DiGraph\n",
    "graph = Digraph('G',format='pdf',engine='fdp',graph_attr={'size':'12,12','ratio':'fill','splines':'ortho','label':'Network Topology','fontsize':'32'})\n",
    "ip_to_id = {}\n",
    "unq_id = 1"
   ]
  },
  {
   "cell_type": "code",
   "execution_count": 4,
   "id": "66a62484",
   "metadata": {},
   "outputs": [],
   "source": [
    "#folders list and colors list\n",
    "folders = ['BBC_UK','Global_Suzuki','Google','HDFC','Hyundai','MICROSOFT','OpenAI','Orange_Networks','Rakuten','Zoom']\n",
    "fold_as = {}\n",
    "colours = [\n",
    "    \"#1f77b4\",  # Blue\n",
    "    \"#ff7f0e\",  # Orange\n",
    "    \"#2ca02c\",  # Green\n",
    "    \"#d62728\",  # Red\n",
    "    \"#9467bd\",  # Purple\n",
    "    \"#8c564b\",  # Brown\n",
    "    \"#e377c2\",  # Pink\n",
    "    \"#7f7f7f\",  # Gray\n",
    "    \"#bcbd22\",  # Olive\n",
    "    \"#17becf\"   # Teal\n",
    "]"
   ]
  },
  {
   "cell_type": "code",
   "execution_count": 5,
   "id": "647cf2c5",
   "metadata": {},
   "outputs": [],
   "source": [
    "#OpenAI destination\n",
    "for j in range(len(folders)):\n",
    "    folder_path = folders[j]\n",
    "    file_list = [file for file in os.listdir(folder_path) if file.endswith('.csv')]\n",
    "    for index in range(len(file_list)):\n",
    "        file_path = os.path.join(folder_path, file_list[index])\n",
    "        df = pd.read_csv(file_path,index_col=0)\n",
    "    \n",
    "        #Assigning random ASnumber if not present for source ip\n",
    "        if index==0:\n",
    "            df.iloc[0,8] = 'start1'\n",
    "        if index==2:\n",
    "            df.iloc[0,8] = 'start2'\n",
    "    \n",
    "        #Removing rows with private ip\n",
    "        df = df.dropna(subset=['ASN_Number'])\n",
    "        df = df.reset_index(drop=True)\n",
    "    \n",
    "        #creating new column average ping\n",
    "        col_to_avg = ['1','2','3']\n",
    "        df['Average'] = df[col_to_avg].apply(calculate_average, axis=1)\n",
    "    \n",
    "        #adding source node\n",
    "        if df.iloc[0,8] not in ip_to_id:\n",
    "            ip_to_id[df.iloc[0,8]] = unq_id\n",
    "            graph.node(str(unq_id),label=file_list[index].split(\".\")[0],fontsize='5',image=\"images/source.png\",imagescale='true',fixedsize='true',height='0.6',width='0.6')\n",
    "            unq_id = unq_id+1\n",
    "            \n",
    "        #adding destination node\n",
    "        if df.iloc[len(df.index)-1,8] not in ip_to_id:\n",
    "            ip_to_id[df.iloc[len(df.index)-1,8]] = unq_id\n",
    "            fold_as[folder_path] = folder_path+'('+'AS'+str(int(df.iloc[len(df.index)-1,8]))+')'\n",
    "            graph.node(str(unq_id),label=folder_path,fontsize='6',image=\"images/destination.png\",imagescale='true',fixedsize='true',height='0.8',width='0.8')\n",
    "            unq_id = unq_id+1\n",
    "        \n",
    "        #adding intermediate nodes\n",
    "        for i in range(1,len(df.index)-1):\n",
    "            if df.iloc[i,8] not in ip_to_id:\n",
    "                ip_to_id[df.iloc[i,8]] = unq_id\n",
    "                lbl = 'AS'+str(int(df.iloc[i,8]))\n",
    "                graph.node(str(unq_id),shape='box',label=lbl,fontsize='6',image=\"images/router.png\",imagescale='true',fixedsize='true',height='0.512',width='0.534')\n",
    "                unq_id = unq_id+1\n",
    "            \n",
    "        #adding edges between nodes\n",
    "        for i in range(1,len(df.index)):\n",
    "            if df.iloc[i,8]!=df.iloc[i-1,8]:\n",
    "                src = str(ip_to_id[df.iloc[i,8]])\n",
    "                tar = str(ip_to_id[df.iloc[i-1,8]])\n",
    "                w = df.iloc[i,13]-df.iloc[i-1,13]\n",
    "                if w<=0:#setting latency=1ms if negative\n",
    "                    w = 12\n",
    "                graph.edge(tar,src,weight=str(w),color=colours[j],arrowhead='open',arrowsize='0.25',penwidth='0.5')"
   ]
  },
  {
   "cell_type": "code",
   "execution_count": 6,
   "id": "47446f69",
   "metadata": {},
   "outputs": [
    {
     "data": {
      "text/plain": [
       "'Visualisation.pdf'"
      ]
     },
     "execution_count": 6,
     "metadata": {},
     "output_type": "execute_result"
    }
   ],
   "source": [
    "# Define the legend node with the color mappings as an HTML-like table\n",
    "legend = f\"<<TABLE BORDER='0' CELLBORDER='1' CELLSPACING='0'><TR><TD COLSPAN='2'><B>Destination</B></TD></TR>\"\n",
    "for folder, color in zip(folders, colours):\n",
    "    legend += f\"<TR><TD BGCOLOR='{color}'>{fold_as[folder]}</TD></TR>\"\n",
    "legend += \"</TABLE>>\"\n",
    "\n",
    "graph.node('legend', label=legend, shape='none', fontsize='10', margin='0.2,0.1')\n",
    "\n",
    "#Rendering graph\n",
    "graph.render('Visualisation', cleanup=True, view=True)"
   ]
  }
 ],
 "metadata": {
  "kernelspec": {
   "display_name": "Python 3 (ipykernel)",
   "language": "python",
   "name": "python3"
  },
  "language_info": {
   "codemirror_mode": {
    "name": "ipython",
    "version": 3
   },
   "file_extension": ".py",
   "mimetype": "text/x-python",
   "name": "python",
   "nbconvert_exporter": "python",
   "pygments_lexer": "ipython3",
   "version": "3.10.2"
  }
 },
 "nbformat": 4,
 "nbformat_minor": 5
}
