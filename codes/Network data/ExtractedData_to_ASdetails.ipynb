{
 "cells": [
  {
   "cell_type": "code",
   "execution_count": 1,
   "id": "f9221374",
   "metadata": {},
   "outputs": [],
   "source": [
    "import os\n",
    "import pandas as pd"
   ]
  },
  {
   "cell_type": "code",
   "execution_count": 2,
   "id": "712e3c37",
   "metadata": {},
   "outputs": [],
   "source": [
    "# Set the path to the current directory\n",
    "current_directory = os.getcwd()\n",
    "\n",
    "# List all folders in the current directory\n",
    "folders = [folder for folder in os.listdir(current_directory) if os.path.isdir(folder)]\n",
    "\n",
    "# Initialize an empty list to store DataFrames\n",
    "data_frames = []\n",
    "\n",
    "# Loop through each folder\n",
    "for folder in folders:\n",
    "    folder_path = os.path.join(current_directory, folder)\n",
    "    \n",
    "    # List all CSV files in the folder\n",
    "    csv_files = [file for file in os.listdir(folder_path) if file.endswith('.csv')]\n",
    "    \n",
    "    # Loop through each CSV file\n",
    "    for csv_file in csv_files:\n",
    "        csv_file_path = os.path.join(folder_path, csv_file)\n",
    "        \n",
    "        # Load CSV into DataFrame and append to the list\n",
    "        df = pd.read_csv(csv_file_path)\n",
    "        data_frames.append(df)\n",
    "\n",
    "# Concatenate all DataFrames into a single DataFrame\n",
    "combined_df = pd.concat(data_frames, ignore_index=True)"
   ]
  },
  {
   "cell_type": "code",
   "execution_count": 3,
   "id": "5c575d4b",
   "metadata": {},
   "outputs": [
    {
     "name": "stdout",
     "output_type": "stream",
     "text": [
      "    ASN_Number                                    ASN_description  \\\n",
      "0       AS1299                       Arelion, f/k/a Telia Carrier   \n",
      "1       AS1299                       Arelion, f/k/a Telia Carrier   \n",
      "2       AS1299                       Arelion, f/k/a Telia Carrier   \n",
      "3       AS1299                       Arelion, f/k/a Telia Carrier   \n",
      "4       AS1299                       Arelion, f/k/a Telia Carrier   \n",
      "..         ...                                                ...   \n",
      "315     AS8560  This is the joint network for IONOS, Fasthosts...   \n",
      "316     AS8560  This is the joint network for IONOS, Fasthosts...   \n",
      "317     AS9607                              BroadBand Tower, Inc.   \n",
      "318     AS9607                              BroadBand Tower, Inc.   \n",
      "322     AS9607                              BroadBand Tower, Inc.   \n",
      "\n",
      "    ASN_Country_Code IP_Type               ip         IP_range  \\\n",
      "0                 SE  Global   62.115.112.157    62.115.0.0/16   \n",
      "1                 SE  Global   213.248.70.121  213.248.64.0/18   \n",
      "2                 SE  Global    213.248.88.90  213.248.64.0/18   \n",
      "3                 SE  Global   62.115.191.217    62.115.0.0/16   \n",
      "4                 SE  Global    62.115.143.16    62.115.0.0/16   \n",
      "..               ...     ...              ...              ...   \n",
      "315               DE  Global   212.227.120.40   212.227.0.0/16   \n",
      "316               DE  Global  212.227.120.229   212.227.0.0/16   \n",
      "317               JP  Global     211.14.4.178    211.14.0.0/21   \n",
      "318               JP  Global     211.14.4.177    211.14.0.0/21   \n",
      "322               JP  Global     211.14.4.222    211.14.0.0/21   \n",
      "\n",
      "                       IP_description IP_Country  \n",
      "0                                 NaN         SE  \n",
      "1                                 NaN         SE  \n",
      "2                                 NaN         SE  \n",
      "3                                 NaN         SE  \n",
      "4                                 NaN         SE  \n",
      "..                                ...        ...  \n",
      "315                               NaN         DE  \n",
      "316                               NaN         DE  \n",
      "317  Japan Network Information Center         JP  \n",
      "318  Japan Network Information Center         JP  \n",
      "322  Japan Network Information Center         JP  \n",
      "\n",
      "[200 rows x 8 columns]\n"
     ]
    }
   ],
   "source": [
    "#Dropping pings and index\n",
    "col_to_drop = ['index','1','2','3','ASN_Name','IP_Name']\n",
    "combined_df.drop(col_to_drop,axis=1,inplace=True)\n",
    "\n",
    "#dropping rows with no ASnumber and sorting by ASnumber\n",
    "combined_df = combined_df.dropna(subset=['ASN_Number'])\n",
    "combined_df['ASN_Number'] = 'AS'+combined_df['ASN_Number'].astype(int).astype(str)\n",
    "combined_df.sort_values(by='ASN_Number',inplace=True)\n",
    "combined_df = combined_df.reset_index(drop = True)\n",
    "\n",
    "# Get the column names\n",
    "columns = combined_df.columns.tolist()\n",
    "\n",
    "# Move the first 5 columns to the back\n",
    "new_columns_order = columns[4:] + columns[:4]\n",
    "combined_df = combined_df[new_columns_order]\n",
    "\n",
    "#Dropping duplicates\n",
    "combined_df = combined_df.drop_duplicates()\n",
    "\n",
    "# Print the combined DataFrame\n",
    "print(combined_df)\n",
    "\n",
    "#saving as csv\n",
    "combined_df.to_csv('AS_details.csv',index=False)"
   ]
  }
 ],
 "metadata": {
  "kernelspec": {
   "display_name": "Python 3 (ipykernel)",
   "language": "python",
   "name": "python3"
  },
  "language_info": {
   "codemirror_mode": {
    "name": "ipython",
    "version": 3
   },
   "file_extension": ".py",
   "mimetype": "text/x-python",
   "name": "python",
   "nbconvert_exporter": "python",
   "pygments_lexer": "ipython3",
   "version": "3.10.2"
  }
 },
 "nbformat": 4,
 "nbformat_minor": 5
}
